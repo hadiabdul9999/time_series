{
 "cells": [
  {
   "cell_type": "markdown",
   "id": "9b1c08d7",
   "metadata": {},
   "source": [
    "### I want to showcase my understanding of ESM time series model and evaluate its performance on stock data."
   ]
  },
  {
   "cell_type": "markdown",
   "id": "a740b148",
   "metadata": {},
   "source": [
    "#### Importing Libraries"
   ]
  },
  {
   "cell_type": "code",
   "execution_count": 31,
   "id": "8cd002fd",
   "metadata": {},
   "outputs": [],
   "source": [
    "import yfinance as yf\n",
    "import pandas as pd\n",
    "import numpy as np\n",
    "import matplotlib.pyplot as plt\n",
    "import statsmodels.api as sm\n",
    "import statsmodels\n",
    "from sklearn.metrics import mean_squared_error\n",
    "from sklearn.model_selection import TimeSeriesSplit, GridSearchCV\n",
    "from sklearn.metrics import make_scorer"
   ]
  },
  {
   "cell_type": "markdown",
   "id": "36ed25b9",
   "metadata": {},
   "source": [
    "#### Define variables"
   ]
  },
  {
   "cell_type": "code",
   "execution_count": 2,
   "id": "f6496a99",
   "metadata": {},
   "outputs": [],
   "source": [
    "stock_symbol = \"AAPL\"\n",
    "start_date = \"2018-01-01\"\n",
    "end_date = \"2023-01-01\""
   ]
  },
  {
   "cell_type": "markdown",
   "id": "4a6bef0c",
   "metadata": {},
   "source": [
    "#### Building the dataframe"
   ]
  },
  {
   "cell_type": "code",
   "execution_count": 3,
   "id": "9cc7b747",
   "metadata": {},
   "outputs": [
    {
     "name": "stdout",
     "output_type": "stream",
     "text": [
      "[*********************100%***********************]  1 of 1 completed\n"
     ]
    }
   ],
   "source": [
    "df = yf.download(stock_symbol, start=start_date, end=end_date, interval=\"1wk\")"
   ]
  },
  {
   "cell_type": "code",
   "execution_count": 4,
   "id": "9870b49f",
   "metadata": {},
   "outputs": [
    {
     "data": {
      "text/html": [
       "<div>\n",
       "<style scoped>\n",
       "    .dataframe tbody tr th:only-of-type {\n",
       "        vertical-align: middle;\n",
       "    }\n",
       "\n",
       "    .dataframe tbody tr th {\n",
       "        vertical-align: top;\n",
       "    }\n",
       "\n",
       "    .dataframe thead th {\n",
       "        text-align: right;\n",
       "    }\n",
       "</style>\n",
       "<table border=\"1\" class=\"dataframe\">\n",
       "  <thead>\n",
       "    <tr style=\"text-align: right;\">\n",
       "      <th></th>\n",
       "      <th>Open</th>\n",
       "      <th>High</th>\n",
       "      <th>Low</th>\n",
       "      <th>Close</th>\n",
       "      <th>Adj Close</th>\n",
       "      <th>Volume</th>\n",
       "    </tr>\n",
       "    <tr>\n",
       "      <th>Date</th>\n",
       "      <th></th>\n",
       "      <th></th>\n",
       "      <th></th>\n",
       "      <th></th>\n",
       "      <th></th>\n",
       "      <th></th>\n",
       "    </tr>\n",
       "  </thead>\n",
       "  <tbody>\n",
       "    <tr>\n",
       "      <th>2018-01-01</th>\n",
       "      <td>42.540001</td>\n",
       "      <td>43.842499</td>\n",
       "      <td>42.314999</td>\n",
       "      <td>43.750000</td>\n",
       "      <td>41.425117</td>\n",
       "      <td>404673600</td>\n",
       "    </tr>\n",
       "    <tr>\n",
       "      <th>2018-01-08</th>\n",
       "      <td>43.587502</td>\n",
       "      <td>44.340000</td>\n",
       "      <td>43.250000</td>\n",
       "      <td>44.272499</td>\n",
       "      <td>41.919857</td>\n",
       "      <td>440790000</td>\n",
       "    </tr>\n",
       "    <tr>\n",
       "      <th>2018-01-15</th>\n",
       "      <td>44.474998</td>\n",
       "      <td>45.025002</td>\n",
       "      <td>43.767502</td>\n",
       "      <td>44.615002</td>\n",
       "      <td>42.244160</td>\n",
       "      <td>510284800</td>\n",
       "    </tr>\n",
       "    <tr>\n",
       "      <th>2018-01-22</th>\n",
       "      <td>44.325001</td>\n",
       "      <td>44.860001</td>\n",
       "      <td>42.514999</td>\n",
       "      <td>42.877499</td>\n",
       "      <td>40.598984</td>\n",
       "      <td>766299200</td>\n",
       "    </tr>\n",
       "    <tr>\n",
       "      <th>2018-01-29</th>\n",
       "      <td>42.540001</td>\n",
       "      <td>42.540001</td>\n",
       "      <td>40.025002</td>\n",
       "      <td>40.125000</td>\n",
       "      <td>37.992756</td>\n",
       "      <td>1051968400</td>\n",
       "    </tr>\n",
       "  </tbody>\n",
       "</table>\n",
       "</div>"
      ],
      "text/plain": [
       "                 Open       High        Low      Close  Adj Close      Volume\n",
       "Date                                                                         \n",
       "2018-01-01  42.540001  43.842499  42.314999  43.750000  41.425117   404673600\n",
       "2018-01-08  43.587502  44.340000  43.250000  44.272499  41.919857   440790000\n",
       "2018-01-15  44.474998  45.025002  43.767502  44.615002  42.244160   510284800\n",
       "2018-01-22  44.325001  44.860001  42.514999  42.877499  40.598984   766299200\n",
       "2018-01-29  42.540001  42.540001  40.025002  40.125000  37.992756  1051968400"
      ]
     },
     "execution_count": 4,
     "metadata": {},
     "output_type": "execute_result"
    }
   ],
   "source": [
    "df.head()"
   ]
  },
  {
   "cell_type": "code",
   "execution_count": 22,
   "id": "04050ddd",
   "metadata": {},
   "outputs": [],
   "source": [
    "# Choosing only the desired column for forecasting\n",
    "# Adjusted close is the closing price after adjustments for all applicable splits and dividend distributions. \n",
    "# Data is adjusted using appropriate split and dividend multipliers, \n",
    "# adhering to Center for Research in Security Prices (CRSP) standards.\n",
    "data = df['Adj Close']"
   ]
  },
  {
   "cell_type": "markdown",
   "id": "d19e7a80",
   "metadata": {},
   "source": [
    "#### Splitting the data"
   ]
  },
  {
   "cell_type": "code",
   "execution_count": 23,
   "id": "935b0cb4",
   "metadata": {},
   "outputs": [],
   "source": [
    "train_data = data.iloc[:-10]  # Exclude the last two weeks for testing\n",
    "test_data = data.iloc[-10:]"
   ]
  },
  {
   "cell_type": "markdown",
   "id": "4cafcef8",
   "metadata": {},
   "source": [
    "#### Preprocessing"
   ]
  },
  {
   "cell_type": "code",
   "execution_count": 24,
   "id": "b940058d",
   "metadata": {},
   "outputs": [],
   "source": [
    "# Create date index for the forecast\n",
    "forecast_dates = pd.date_range(start=test_data.index[-1], periods=10, freq='W')"
   ]
  },
  {
   "cell_type": "markdown",
   "id": "5e9867e1",
   "metadata": {},
   "source": [
    "#### Modeling"
   ]
  },
  {
   "cell_type": "code",
   "execution_count": 27,
   "id": "9fa1eb03",
   "metadata": {},
   "outputs": [
    {
     "name": "stderr",
     "output_type": "stream",
     "text": [
      "C:\\Users\\Abdul\\AppData\\Local\\Programs\\Python\\Python311\\Lib\\site-packages\\statsmodels\\tsa\\base\\tsa_model.py:471: ValueWarning: No frequency information was provided, so inferred frequency W-MON will be used.\n",
      "  self._init_dates(dates, freq)\n"
     ]
    }
   ],
   "source": [
    "# Fit the Exponential Smoothing State Space Model (ESM)\n",
    "esm_model = statsmodels.tsa.holtwinters.ExponentialSmoothing(\n",
    "    train_data, trend='add', seasonal='add', seasonal_periods=52\n",
    ").fit()\n",
    "\n",
    "# Forecast 10 weeks into the future\n",
    "forecast = esm_model.forecast(steps=10)"
   ]
  },
  {
   "cell_type": "markdown",
   "id": "67b55307",
   "metadata": {},
   "source": [
    "#### Visualization"
   ]
  },
  {
   "cell_type": "code",
   "execution_count": 28,
   "id": "aacfa06c",
   "metadata": {},
   "outputs": [
    {
     "data": {
      "image/png": "[encoded data removed]",
      "text/plain": [
       "<Figure size 1200x600 with 1 Axes>"
      ]
     },
     "metadata": {},
     "output_type": "display_data"
    }
   ],
   "source": [
    "# Plot the original data and the forecast\n",
    "plt.figure(figsize=(12, 6))\n",
    "plt.plot(data, label='Original Data')\n",
    "plt.plot(forecast, label='Forecast', linestyle='--')\n",
    "plt.title(f\"{stock_symbol} Weekly Price Forecast\")\n",
    "plt.xlabel(\"Date\")\n",
    "plt.ylabel(\"Adj Close Price\")\n",
    "plt.legend()\n",
    "plt.grid(True)\n",
    "plt.show()"
   ]
  },
  {
   "cell_type": "markdown",
   "id": "a1a0c0b9",
   "metadata": {},
   "source": [
    "#### Accuracy Calculation"
   ]
  },
  {
   "cell_type": "code",
   "execution_count": 30,
   "id": "8871e59e",
   "metadata": {},
   "outputs": [
    {
     "name": "stdout",
     "output_type": "stream",
     "text": [
      "Root Mean Squared Error (RMSE): 14.51\n"
     ]
    }
   ],
   "source": [
    "mse = mean_squared_error(test_data, forecast)\n",
    "rmse = np.sqrt(mse)\n",
    "print(f\"Root Mean Squared Error (RMSE): {rmse:.2f}\")"
   ]
  },
  {
   "cell_type": "markdown",
   "id": "25989500",
   "metadata": {},
   "source": [
    "#### Hyper-parameter tuning"
   ]
  },
  {
   "cell_type": "code",
   "execution_count": 34,
   "id": "d739158a",
   "metadata": {},
   "outputs": [
    {
     "name": "stderr",
     "output_type": "stream",
     "text": [
      "C:\\Users\\Abdul\\AppData\\Local\\Programs\\Python\\Python311\\Lib\\site-packages\\statsmodels\\tsa\\base\\tsa_model.py:471: ValueWarning: No frequency information was provided, so inferred frequency W-MON will be used.\n",
      "  self._init_dates(dates, freq)\n"
     ]
    },
    {
     "name": "stdout",
     "output_type": "stream",
     "text": [
      "For the model with Trend: add and Seasonality: add\n",
      "Root Mean Squared Error (RMSE): 14.51\n"
     ]
    },
    {
     "name": "stderr",
     "output_type": "stream",
     "text": [
      "C:\\Users\\Abdul\\AppData\\Local\\Programs\\Python\\Python311\\Lib\\site-packages\\statsmodels\\tsa\\base\\tsa_model.py:471: ValueWarning: No frequency information was provided, so inferred frequency W-MON will be used.\n",
      "  self._init_dates(dates, freq)\n"
     ]
    },
    {
     "name": "stdout",
     "output_type": "stream",
     "text": [
      "For the model with Trend: add and Seasonality: multiplicative\n",
      "Root Mean Squared Error (RMSE): 20.35\n"
     ]
    },
    {
     "name": "stderr",
     "output_type": "stream",
     "text": [
      "C:\\Users\\Abdul\\AppData\\Local\\Programs\\Python\\Python311\\Lib\\site-packages\\statsmodels\\tsa\\base\\tsa_model.py:471: ValueWarning: No frequency information was provided, so inferred frequency W-MON will be used.\n",
      "  self._init_dates(dates, freq)\n",
      "C:\\Users\\Abdul\\AppData\\Local\\Programs\\Python\\Python311\\Lib\\site-packages\\statsmodels\\tsa\\holtwinters\\model.py:83: RuntimeWarning: overflow encountered in matmul\n",
      "  return err.T @ err\n",
      "C:\\Users\\Abdul\\AppData\\Local\\Programs\\Python\\Python311\\Lib\\site-packages\\statsmodels\\tsa\\base\\tsa_model.py:471: ValueWarning: No frequency information was provided, so inferred frequency W-MON will be used.\n",
      "  self._init_dates(dates, freq)\n"
     ]
    },
    {
     "name": "stdout",
     "output_type": "stream",
     "text": [
      "For the model with Trend: multiplicative and Seasonality: add\n",
      "Root Mean Squared Error (RMSE): 14.42\n",
      "For the model with Trend: multiplicative and Seasonality: multiplicative\n",
      "Root Mean Squared Error (RMSE): 20.77\n"
     ]
    },
    {
     "name": "stderr",
     "output_type": "stream",
     "text": [
      "C:\\Users\\Abdul\\AppData\\Local\\Programs\\Python\\Python311\\Lib\\site-packages\\statsmodels\\tsa\\holtwinters\\model.py:83: RuntimeWarning: overflow encountered in matmul\n",
      "  return err.T @ err\n"
     ]
    }
   ],
   "source": [
    "# Define the scoring function\n",
    "def calculate_rmse(y_true, y_pred):\n",
    "    return np.sqrt(np.mean((y_true - y_pred) ** 2))\n",
    "\n",
    "param_grid = {\n",
    "    'trend': ['add', 'multiplicative'],\n",
    "    'seasonal': ['add', 'multiplicative'],\n",
    "    'seasonal_periods': [52],\n",
    "}\n",
    "\n",
    "for trend in param_grid[\"trend\"]:\n",
    "    for seasonal in param_grid[\"seasonal\"]:\n",
    "        esm_model = statsmodels.tsa.holtwinters.ExponentialSmoothing(\n",
    "            train_data, trend=trend, seasonal=seasonal, seasonal_periods=52\n",
    "        ).fit()\n",
    "\n",
    "        # Forecast 4 weeks into the future\n",
    "        forecast = esm_model.forecast(steps=10)\n",
    "        mse = mean_squared_error(test_data, forecast)\n",
    "        rmse = np.sqrt(mse)\n",
    "        print(f\"For the model with Trend: {trend} and Seasonality: {seasonal}\")\n",
    "        print(f\"Root Mean Squared Error (RMSE): {rmse:.2f}\")"
   ]
  },
  {
   "cell_type": "markdown",
   "id": "dce6a829",
   "metadata": {},
   "source": [
    "The model with multiplicative trand and additive seasonality seems to be the best match. Lets visualize the forecast of the model."
   ]
  },
  {
   "cell_type": "code",
   "execution_count": null,
   "id": "d739ad41",
   "metadata": {},
   "outputs": [],
   "source": []
  }
 ],
 "metadata": {
  "kernelspec": {
   "display_name": "Python 3 (ipykernel)",
   "language": "python",
   "name": "python3"
  },
  "language_info": {
   "codemirror_mode": {
    "name": "ipython",
    "version": 3
   },
   "file_extension": ".py",
   "mimetype": "text/x-python",
   "name": "python",
   "nbconvert_exporter": "python",
   "pygments_lexer": "ipython3",
   "version": "3.11.2"
  }
 },
 "nbformat": 4,
 "nbformat_minor": 5
}
